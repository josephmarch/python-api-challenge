{
 "cells": [
  {
   "cell_type": "markdown",
   "metadata": {},
   "source": [
    "# WeatherPy\n",
    "----\n",
    "\n",
    "#### Note\n",
    "* Instructions have been included for each segment. You do not have to follow them exactly, but they are included to help you think through the steps."
   ]
  },
  {
   "cell_type": "code",
   "execution_count": 1,
   "metadata": {
    "scrolled": true
   },
   "outputs": [],
   "source": [
    "# Dependencies and Setup\n",
    "import matplotlib.pyplot as plt\n",
    "import pandas as pd\n",
    "import numpy as np\n",
    "import requests\n",
    "import time\n",
    "from scipy.stats import linregress\n",
    "from pprint import pprint\n",
    "\n",
    "# Import API key\n",
    "from api_keys import weather_api_key\n",
    "\n",
    "# Incorporated citipy to determine city based on latitude and longitude\n",
    "from citipy import citipy\n",
    "\n",
    "# Output File (CSV)\n",
    "output_data_file = \"../output_data/cities.csv\"\n",
    "\n",
    "# Range of latitudes and longitudes\n",
    "lat_range = (-90, 90)\n",
    "lng_range = (-180, 180)"
   ]
  },
  {
   "cell_type": "markdown",
   "metadata": {},
   "source": [
    "## Generate Cities List"
   ]
  },
  {
   "cell_type": "code",
   "execution_count": 2,
   "metadata": {},
   "outputs": [
    {
     "data": {
      "text/plain": [
       "608"
      ]
     },
     "execution_count": 2,
     "metadata": {},
     "output_type": "execute_result"
    }
   ],
   "source": [
    "# List for holding lat_lngs and cities\n",
    "lat_lngs = []\n",
    "cities = []\n",
    "\n",
    "# Create a set of random lat and lng combinations\n",
    "lats = np.random.uniform(lat_range[0], lat_range[1], size=1500)\n",
    "lngs = np.random.uniform(lng_range[0], lng_range[1], size=1500)\n",
    "lat_lngs = zip(lats, lngs)\n",
    "\n",
    "# Identify nearest city for each lat, lng combination\n",
    "for lat_lng in lat_lngs:\n",
    "    city = citipy.nearest_city(lat_lng[0], lat_lng[1]).city_name\n",
    "    \n",
    "    # If the city is unique, then add it to a our cities list\n",
    "    if city not in cities:\n",
    "        cities.append(city)\n",
    "\n",
    "# Print the city count to confirm sufficient count\n",
    "len(cities)"
   ]
  },
  {
   "cell_type": "markdown",
   "metadata": {},
   "source": [
    "### Perform API Calls\n",
    "* Perform a weather check on each city using a series of successive API calls.\n",
    "* Include a print log of each city as it'sbeing processed (with the city number and city name).\n"
   ]
  },
  {
   "cell_type": "code",
   "execution_count": 3,
   "metadata": {},
   "outputs": [
    {
     "name": "stdout",
     "output_type": "stream",
     "text": [
      "Beginning Data Retrieval\n",
      "-----------------------------\n",
      "Processing Record 1: sechura\n",
      "Processing Record 2: ushuaia\n",
      "Processing Record 3: saint george\n",
      "Processing Record 4: bakel\n",
      "Processing Record 5: castro\n",
      "Processing Record 6: clyde river\n",
      "Processing Record 7: coquimbo\n",
      "Processing Record 8: merauke\n",
      "Processing Record 9: tuktoyaktuk\n",
      "Processing Record 10: barrow\n",
      "-----------------------------\n",
      "Data Retrieval Complete\n",
      "-----------------------------\n"
     ]
    }
   ],
   "source": [
    "# Build a query url\n",
    "units = \"imperial\"\n",
    "url = f\"http://api.openweathermap.org/data/2.5/weather?appid={weather_api_key}&units={units}&q=\"\n",
    "\n",
    "# Set up variables to store data related to weather check\n",
    "city_number = 0\n",
    "city_names = []\n",
    "lat = []\n",
    "lng = []\n",
    "max_temp = []\n",
    "humidity = []\n",
    "cloudiness = []\n",
    "wind_speed = []\n",
    "country = []\n",
    "date = []\n",
    "\n",
    "# Perform a weather check on each city using a series of successive API Calls\n",
    "print(\"Beginning Data Retrieval\")\n",
    "print(\"-----------------------------\")\n",
    "for city in cities:\n",
    "    # Include a print log of each city as it is being processed (with the city number and city name)\n",
    "    city_number = city_number +1\n",
    "    print(f\"Processing Record {city_number}: {city}\")\n",
    "    response = requests.get(url + city).json()\n",
    "    try:\n",
    "        lat.append(response[\"coord\"][\"lat\"])\n",
    "        lng.append(response[\"coord\"][\"lon\"])\n",
    "        max_temp.append(response[\"main\"][\"temp_max\"])\n",
    "        humidity.append(response[\"main\"][\"humidity\"])\n",
    "        cloudiness.append(response[\"clouds\"][\"all\"])\n",
    "        wind_speed.append(response[\"wind\"][\"speed\"])\n",
    "        country.append(response[\"sys\"][\"country\"])\n",
    "        date.append(response[\"dt\"])\n",
    "        city_names.append(response[\"name\"])\n",
    "        # FOR TESTING (comment out next line when not testing) print out the JSON\n",
    "        #pprint(response)\n",
    "    except:\n",
    "        print(\"City not found. Skipping...\")\n",
    "    # FOR TESTING (comment out next 2 lines when not testing) keep the set shorter than total number of cities\n",
    "    if city_number == 10:\n",
    "        break\n",
    "\n",
    "print(\"-----------------------------\")\n",
    "print(\"Data Retrieval Complete\")\n",
    "print(\"-----------------------------\")"
   ]
  },
  {
   "cell_type": "markdown",
   "metadata": {},
   "source": [
    "### Convert Raw Data to DataFrame\n",
    "* Export the city data into a .csv.\n",
    "* Display the DataFrame"
   ]
  },
  {
   "cell_type": "code",
   "execution_count": 4,
   "metadata": {},
   "outputs": [
    {
     "data": {
      "text/html": [
       "<div>\n",
       "<style scoped>\n",
       "    .dataframe tbody tr th:only-of-type {\n",
       "        vertical-align: middle;\n",
       "    }\n",
       "\n",
       "    .dataframe tbody tr th {\n",
       "        vertical-align: top;\n",
       "    }\n",
       "\n",
       "    .dataframe thead th {\n",
       "        text-align: right;\n",
       "    }\n",
       "</style>\n",
       "<table border=\"1\" class=\"dataframe\">\n",
       "  <thead>\n",
       "    <tr style=\"text-align: right;\">\n",
       "      <th></th>\n",
       "      <th>City</th>\n",
       "      <th>Lat</th>\n",
       "      <th>Lng</th>\n",
       "      <th>Max Temp</th>\n",
       "      <th>Humidity</th>\n",
       "      <th>Cloudiness</th>\n",
       "      <th>Wind Speed</th>\n",
       "      <th>Country</th>\n",
       "      <th>Date</th>\n",
       "    </tr>\n",
       "  </thead>\n",
       "  <tbody>\n",
       "    <tr>\n",
       "      <th>0</th>\n",
       "      <td>Sechura</td>\n",
       "      <td>-5.5569</td>\n",
       "      <td>-80.8222</td>\n",
       "      <td>74.52</td>\n",
       "      <td>60</td>\n",
       "      <td>21</td>\n",
       "      <td>9.33</td>\n",
       "      <td>PE</td>\n",
       "      <td>1629739579</td>\n",
       "    </tr>\n",
       "    <tr>\n",
       "      <th>1</th>\n",
       "      <td>Ushuaia</td>\n",
       "      <td>-54.8000</td>\n",
       "      <td>-68.3000</td>\n",
       "      <td>44.22</td>\n",
       "      <td>81</td>\n",
       "      <td>40</td>\n",
       "      <td>2.30</td>\n",
       "      <td>AR</td>\n",
       "      <td>1629739580</td>\n",
       "    </tr>\n",
       "    <tr>\n",
       "      <th>2</th>\n",
       "      <td>Saint George</td>\n",
       "      <td>37.1041</td>\n",
       "      <td>-113.5841</td>\n",
       "      <td>93.67</td>\n",
       "      <td>20</td>\n",
       "      <td>1</td>\n",
       "      <td>1.01</td>\n",
       "      <td>US</td>\n",
       "      <td>1629739436</td>\n",
       "    </tr>\n",
       "    <tr>\n",
       "      <th>3</th>\n",
       "      <td>Bakel</td>\n",
       "      <td>14.9050</td>\n",
       "      <td>-12.4568</td>\n",
       "      <td>89.96</td>\n",
       "      <td>54</td>\n",
       "      <td>100</td>\n",
       "      <td>5.91</td>\n",
       "      <td>SN</td>\n",
       "      <td>1629739580</td>\n",
       "    </tr>\n",
       "    <tr>\n",
       "      <th>4</th>\n",
       "      <td>Castro</td>\n",
       "      <td>-24.7911</td>\n",
       "      <td>-50.0119</td>\n",
       "      <td>80.73</td>\n",
       "      <td>29</td>\n",
       "      <td>0</td>\n",
       "      <td>8.30</td>\n",
       "      <td>BR</td>\n",
       "      <td>1629739580</td>\n",
       "    </tr>\n",
       "  </tbody>\n",
       "</table>\n",
       "</div>"
      ],
      "text/plain": [
       "           City      Lat       Lng  Max Temp  Humidity  Cloudiness  \\\n",
       "0       Sechura  -5.5569  -80.8222     74.52        60          21   \n",
       "1       Ushuaia -54.8000  -68.3000     44.22        81          40   \n",
       "2  Saint George  37.1041 -113.5841     93.67        20           1   \n",
       "3         Bakel  14.9050  -12.4568     89.96        54         100   \n",
       "4        Castro -24.7911  -50.0119     80.73        29           0   \n",
       "\n",
       "   Wind Speed Country        Date  \n",
       "0        9.33      PE  1629739579  \n",
       "1        2.30      AR  1629739580  \n",
       "2        1.01      US  1629739436  \n",
       "3        5.91      SN  1629739580  \n",
       "4        8.30      BR  1629739580  "
      ]
     },
     "execution_count": 4,
     "metadata": {},
     "output_type": "execute_result"
    }
   ],
   "source": [
    "# Create DataFrame\n",
    "weather_dict = {\n",
    "    \"City\": city_names,\n",
    "    \"Lat\": lat,\n",
    "    \"Lng\": lng,\n",
    "    \"Max Temp\": max_temp,\n",
    "    \"Humidity\": humidity,\n",
    "    \"Cloudiness\": cloudiness,\n",
    "    \"Wind Speed\": wind_speed,\n",
    "    \"Country\": country,\n",
    "    \"Date\": date\n",
    "}\n",
    "weather_data = pd.DataFrame(data = weather_dict)\n",
    "\n",
    "# Export the city data into a .csv\n",
    "weather_data.to_csv(\"../output_data/cities.csv\", encoding=\"utf-8\", index=True)\n",
    "\n",
    "# Display the DataFrame\n",
    "weather_data.head()"
   ]
  },
  {
   "cell_type": "code",
   "execution_count": 5,
   "metadata": {},
   "outputs": [
    {
     "data": {
      "text/html": [
       "<div>\n",
       "<style scoped>\n",
       "    .dataframe tbody tr th:only-of-type {\n",
       "        vertical-align: middle;\n",
       "    }\n",
       "\n",
       "    .dataframe tbody tr th {\n",
       "        vertical-align: top;\n",
       "    }\n",
       "\n",
       "    .dataframe thead th {\n",
       "        text-align: right;\n",
       "    }\n",
       "</style>\n",
       "<table border=\"1\" class=\"dataframe\">\n",
       "  <thead>\n",
       "    <tr style=\"text-align: right;\">\n",
       "      <th></th>\n",
       "      <th>Lat</th>\n",
       "      <th>Lng</th>\n",
       "      <th>Max Temp</th>\n",
       "      <th>Humidity</th>\n",
       "      <th>Cloudiness</th>\n",
       "      <th>Wind Speed</th>\n",
       "      <th>Date</th>\n",
       "    </tr>\n",
       "  </thead>\n",
       "  <tbody>\n",
       "    <tr>\n",
       "      <th>count</th>\n",
       "      <td>10.000000</td>\n",
       "      <td>10.000000</td>\n",
       "      <td>10.000000</td>\n",
       "      <td>10.000000</td>\n",
       "      <td>10.000000</td>\n",
       "      <td>10.000000</td>\n",
       "      <td>1.000000e+01</td>\n",
       "    </tr>\n",
       "    <tr>\n",
       "      <th>mean</th>\n",
       "      <td>13.965500</td>\n",
       "      <td>-61.460280</td>\n",
       "      <td>63.952000</td>\n",
       "      <td>66.300000</td>\n",
       "      <td>59.200000</td>\n",
       "      <td>7.555000</td>\n",
       "      <td>1.629740e+09</td>\n",
       "    </tr>\n",
       "    <tr>\n",
       "      <th>std</th>\n",
       "      <td>46.113452</td>\n",
       "      <td>82.159018</td>\n",
       "      <td>21.949475</td>\n",
       "      <td>26.034379</td>\n",
       "      <td>40.063283</td>\n",
       "      <td>4.017255</td>\n",
       "      <td>4.564708e+01</td>\n",
       "    </tr>\n",
       "    <tr>\n",
       "      <th>min</th>\n",
       "      <td>-54.800000</td>\n",
       "      <td>-156.788700</td>\n",
       "      <td>32.020000</td>\n",
       "      <td>20.000000</td>\n",
       "      <td>0.000000</td>\n",
       "      <td>1.010000</td>\n",
       "      <td>1.629739e+09</td>\n",
       "    </tr>\n",
       "    <tr>\n",
       "      <th>25%</th>\n",
       "      <td>-20.710000</td>\n",
       "      <td>-105.393625</td>\n",
       "      <td>45.665000</td>\n",
       "      <td>55.500000</td>\n",
       "      <td>25.750000</td>\n",
       "      <td>5.790000</td>\n",
       "      <td>1.629740e+09</td>\n",
       "    </tr>\n",
       "    <tr>\n",
       "      <th>50%</th>\n",
       "      <td>4.674050</td>\n",
       "      <td>-69.967500</td>\n",
       "      <td>66.625000</td>\n",
       "      <td>71.500000</td>\n",
       "      <td>75.000000</td>\n",
       "      <td>7.605000</td>\n",
       "      <td>1.629740e+09</td>\n",
       "    </tr>\n",
       "    <tr>\n",
       "      <th>75%</th>\n",
       "      <td>61.366600</td>\n",
       "      <td>-54.583925</td>\n",
       "      <td>79.607500</td>\n",
       "      <td>86.750000</td>\n",
       "      <td>90.000000</td>\n",
       "      <td>10.387500</td>\n",
       "      <td>1.629740e+09</td>\n",
       "    </tr>\n",
       "    <tr>\n",
       "      <th>max</th>\n",
       "      <td>71.290600</td>\n",
       "      <td>140.333300</td>\n",
       "      <td>93.670000</td>\n",
       "      <td>93.000000</td>\n",
       "      <td>100.000000</td>\n",
       "      <td>13.800000</td>\n",
       "      <td>1.629740e+09</td>\n",
       "    </tr>\n",
       "  </tbody>\n",
       "</table>\n",
       "</div>"
      ],
      "text/plain": [
       "             Lat         Lng   Max Temp   Humidity  Cloudiness  Wind Speed  \\\n",
       "count  10.000000   10.000000  10.000000  10.000000   10.000000   10.000000   \n",
       "mean   13.965500  -61.460280  63.952000  66.300000   59.200000    7.555000   \n",
       "std    46.113452   82.159018  21.949475  26.034379   40.063283    4.017255   \n",
       "min   -54.800000 -156.788700  32.020000  20.000000    0.000000    1.010000   \n",
       "25%   -20.710000 -105.393625  45.665000  55.500000   25.750000    5.790000   \n",
       "50%     4.674050  -69.967500  66.625000  71.500000   75.000000    7.605000   \n",
       "75%    61.366600  -54.583925  79.607500  86.750000   90.000000   10.387500   \n",
       "max    71.290600  140.333300  93.670000  93.000000  100.000000   13.800000   \n",
       "\n",
       "               Date  \n",
       "count  1.000000e+01  \n",
       "mean   1.629740e+09  \n",
       "std    4.564708e+01  \n",
       "min    1.629739e+09  \n",
       "25%    1.629740e+09  \n",
       "50%    1.629740e+09  \n",
       "75%    1.629740e+09  \n",
       "max    1.629740e+09  "
      ]
     },
     "execution_count": 5,
     "metadata": {},
     "output_type": "execute_result"
    }
   ],
   "source": [
    "# Display meaningful statistics\n",
    "weather_data.describe()"
   ]
  },
  {
   "cell_type": "markdown",
   "metadata": {},
   "source": [
    "## Inspect the data and remove the cities where the humidity > 100%.\n",
    "----\n",
    "Skip this step if there are no cities that have humidity > 100%. "
   ]
  },
  {
   "cell_type": "code",
   "execution_count": 6,
   "metadata": {},
   "outputs": [
    {
     "data": {
      "text/html": [
       "<div>\n",
       "<style scoped>\n",
       "    .dataframe tbody tr th:only-of-type {\n",
       "        vertical-align: middle;\n",
       "    }\n",
       "\n",
       "    .dataframe tbody tr th {\n",
       "        vertical-align: top;\n",
       "    }\n",
       "\n",
       "    .dataframe thead th {\n",
       "        text-align: right;\n",
       "    }\n",
       "</style>\n",
       "<table border=\"1\" class=\"dataframe\">\n",
       "  <thead>\n",
       "    <tr style=\"text-align: right;\">\n",
       "      <th></th>\n",
       "      <th>Lat</th>\n",
       "      <th>Lng</th>\n",
       "      <th>Max Temp</th>\n",
       "      <th>Humidity</th>\n",
       "      <th>Cloudiness</th>\n",
       "      <th>Wind Speed</th>\n",
       "      <th>Date</th>\n",
       "    </tr>\n",
       "  </thead>\n",
       "  <tbody>\n",
       "    <tr>\n",
       "      <th>count</th>\n",
       "      <td>10.000000</td>\n",
       "      <td>10.000000</td>\n",
       "      <td>10.000000</td>\n",
       "      <td>10.000000</td>\n",
       "      <td>10.000000</td>\n",
       "      <td>10.000000</td>\n",
       "      <td>1.000000e+01</td>\n",
       "    </tr>\n",
       "    <tr>\n",
       "      <th>mean</th>\n",
       "      <td>13.965500</td>\n",
       "      <td>-61.460280</td>\n",
       "      <td>63.952000</td>\n",
       "      <td>66.300000</td>\n",
       "      <td>59.200000</td>\n",
       "      <td>7.555000</td>\n",
       "      <td>1.629740e+09</td>\n",
       "    </tr>\n",
       "    <tr>\n",
       "      <th>std</th>\n",
       "      <td>46.113452</td>\n",
       "      <td>82.159018</td>\n",
       "      <td>21.949475</td>\n",
       "      <td>26.034379</td>\n",
       "      <td>40.063283</td>\n",
       "      <td>4.017255</td>\n",
       "      <td>4.564708e+01</td>\n",
       "    </tr>\n",
       "    <tr>\n",
       "      <th>min</th>\n",
       "      <td>-54.800000</td>\n",
       "      <td>-156.788700</td>\n",
       "      <td>32.020000</td>\n",
       "      <td>20.000000</td>\n",
       "      <td>0.000000</td>\n",
       "      <td>1.010000</td>\n",
       "      <td>1.629739e+09</td>\n",
       "    </tr>\n",
       "    <tr>\n",
       "      <th>25%</th>\n",
       "      <td>-20.710000</td>\n",
       "      <td>-105.393625</td>\n",
       "      <td>45.665000</td>\n",
       "      <td>55.500000</td>\n",
       "      <td>25.750000</td>\n",
       "      <td>5.790000</td>\n",
       "      <td>1.629740e+09</td>\n",
       "    </tr>\n",
       "    <tr>\n",
       "      <th>50%</th>\n",
       "      <td>4.674050</td>\n",
       "      <td>-69.967500</td>\n",
       "      <td>66.625000</td>\n",
       "      <td>71.500000</td>\n",
       "      <td>75.000000</td>\n",
       "      <td>7.605000</td>\n",
       "      <td>1.629740e+09</td>\n",
       "    </tr>\n",
       "    <tr>\n",
       "      <th>75%</th>\n",
       "      <td>61.366600</td>\n",
       "      <td>-54.583925</td>\n",
       "      <td>79.607500</td>\n",
       "      <td>86.750000</td>\n",
       "      <td>90.000000</td>\n",
       "      <td>10.387500</td>\n",
       "      <td>1.629740e+09</td>\n",
       "    </tr>\n",
       "    <tr>\n",
       "      <th>max</th>\n",
       "      <td>71.290600</td>\n",
       "      <td>140.333300</td>\n",
       "      <td>93.670000</td>\n",
       "      <td>93.000000</td>\n",
       "      <td>100.000000</td>\n",
       "      <td>13.800000</td>\n",
       "      <td>1.629740e+09</td>\n",
       "    </tr>\n",
       "  </tbody>\n",
       "</table>\n",
       "</div>"
      ],
      "text/plain": [
       "             Lat         Lng   Max Temp   Humidity  Cloudiness  Wind Speed  \\\n",
       "count  10.000000   10.000000  10.000000  10.000000   10.000000   10.000000   \n",
       "mean   13.965500  -61.460280  63.952000  66.300000   59.200000    7.555000   \n",
       "std    46.113452   82.159018  21.949475  26.034379   40.063283    4.017255   \n",
       "min   -54.800000 -156.788700  32.020000  20.000000    0.000000    1.010000   \n",
       "25%   -20.710000 -105.393625  45.665000  55.500000   25.750000    5.790000   \n",
       "50%     4.674050  -69.967500  66.625000  71.500000   75.000000    7.605000   \n",
       "75%    61.366600  -54.583925  79.607500  86.750000   90.000000   10.387500   \n",
       "max    71.290600  140.333300  93.670000  93.000000  100.000000   13.800000   \n",
       "\n",
       "               Date  \n",
       "count  1.000000e+01  \n",
       "mean   1.629740e+09  \n",
       "std    4.564708e+01  \n",
       "min    1.629739e+09  \n",
       "25%    1.629740e+09  \n",
       "50%    1.629740e+09  \n",
       "75%    1.629740e+09  \n",
       "max    1.629740e+09  "
      ]
     },
     "execution_count": 6,
     "metadata": {},
     "output_type": "execute_result"
    }
   ],
   "source": [
    "# Remove the cities where the humidity is > 100%\n",
    "weather_data = weather_data.loc[weather_data[\"Humidity\"] <= 100]\n",
    "\n",
    "weather_data.describe()"
   ]
  },
  {
   "cell_type": "markdown",
   "metadata": {},
   "source": [
    "## Plotting the Data\n",
    "* Use proper labeling of the plots using plot titles (including date of analysis) and axes labels.\n",
    "* Save the plotted figures as .pngs."
   ]
  },
  {
   "cell_type": "markdown",
   "metadata": {},
   "source": [
    "## Latitude vs. Temperature Plot"
   ]
  },
  {
   "cell_type": "code",
   "execution_count": 23,
   "metadata": {
    "scrolled": true
   },
   "outputs": [
    {
     "data": {
      "image/png": "[encoded data removed]",
      "text/plain": [
       "<Figure size 432x288 with 1 Axes>"
      ]
     },
     "metadata": {
      "needs_background": "light"
     },
     "output_type": "display_data"
    },
    {
     "name": "stdout",
     "output_type": "stream",
     "text": [
      "This scatter plot is analyzing any correlation between location related to the equator (in Latitude)\n",
      "and the maximum temperature to show how location to the equator relates to temperature.\n"
     ]
    }
   ],
   "source": [
    "# Latitude vs. Temperature Plot\n",
    "plt.figure()\n",
    "plt.scatter(weather_data[\"Lat\"], weather_data[\"Max Temp\"], marker=\"o\")\n",
    "\n",
    "# Calculate date\n",
    "date_avg = weather_data[\"Date\"].mean()\n",
    "plot_date = time.gmtime(date_avg)\n",
    "\n",
    "# Incorporate other graph properties\n",
    "plt.title(f\"City Latitude vs. Max Temperature ({plot_date[1]}/{plot_date[2]}/{plot_date[0]})\")\n",
    "plt.ylabel(\"Max Temperature (F)\")\n",
    "plt.xlabel(\"Latitude\")\n",
    "plt.grid(True)\n",
    "\n",
    "# Save the figure\n",
    "plt.savefig(\"../output_data/Fig1.png\")\n",
    "\n",
    "# Display the plot\n",
    "plt.show()\n",
    "\n",
    "# A sentence or two explaining what the code is analyzing\n",
    "print(\"This scatter plot is analyzing any correlation between location related to the equator (in Latitude)\")\n",
    "print(\"and the maximum temperature to show how location to the equator relates to temperature.\")"
   ]
  },
  {
   "cell_type": "markdown",
   "metadata": {},
   "source": [
    "## Latitude vs. Humidity Plot"
   ]
  },
  {
   "cell_type": "code",
   "execution_count": 17,
   "metadata": {},
   "outputs": [
    {
     "data": {
      "image/png": "[encoded data removed]",
      "text/plain": [
       "<Figure size 432x288 with 1 Axes>"
      ]
     },
     "metadata": {
      "needs_background": "light"
     },
     "output_type": "display_data"
    },
    {
     "name": "stdout",
     "output_type": "stream",
     "text": [
      "This scatter plot is analyzing any correlation between location related to the equator (in Latitude)\n",
      "and the humidity of the region to show how location to the equator relates to humidity.\n"
     ]
    }
   ],
   "source": [
    "# Latitude vs. Humidity Plot\n",
    "plt.figure()\n",
    "plt.scatter(weather_data[\"Lat\"], weather_data[\"Humidity\"], marker=\"o\")\n",
    "\n",
    "# Incorporate other graph properties\n",
    "plt.title(f\"City Latitude vs. Humidity ({plot_date[1]}/{plot_date[2]}/{plot_date[0]})\")\n",
    "plt.ylabel(\"Humidity (%)\")\n",
    "plt.xlabel(\"Latitude\")\n",
    "plt.grid(True)\n",
    "\n",
    "# Save the figure\n",
    "plt.savefig(\"../output_data/Fig2.png\")\n",
    "\n",
    "# Display the plot\n",
    "plt.show()\n",
    "\n",
    "# A sentence or two explaining what the code is analyzing\n",
    "print(\"This scatter plot is analyzing any correlation between location related to the equator (in Latitude)\")\n",
    "print(\"and the humidity of the region to show how location to the equator relates to humidity.\")"
   ]
  },
  {
   "cell_type": "markdown",
   "metadata": {},
   "source": [
    "## Latitude vs. Cloudiness Plot"
   ]
  },
  {
   "cell_type": "code",
   "execution_count": 18,
   "metadata": {},
   "outputs": [
    {
     "data": {
      "image/png": "[encoded data removed]",
      "text/plain": [
       "<Figure size 432x288 with 1 Axes>"
      ]
     },
     "metadata": {
      "needs_background": "light"
     },
     "output_type": "display_data"
    },
    {
     "name": "stdout",
     "output_type": "stream",
     "text": [
      "This scatter plot is analyzing any correlation between location related to the equator (in Latitude)\n",
      "and the cloudiness of the region to show how location to the equator relates to cloud coverage.\n"
     ]
    }
   ],
   "source": [
    "# Latitude vs. Cloudiness Plot\n",
    "plt.figure()\n",
    "plt.scatter(weather_data[\"Lat\"], weather_data[\"Cloudiness\"], marker=\"o\")\n",
    "\n",
    "# Incorporate other graph properties\n",
    "plt.title(f\"City Latitude vs. Cloudiness ({plot_date[1]}/{plot_date[2]}/{plot_date[0]})\")\n",
    "plt.ylabel(\"Cloudiness (%)\")\n",
    "plt.xlabel(\"Latitude\")\n",
    "plt.grid(True)\n",
    "\n",
    "# Save the figure\n",
    "plt.savefig(\"../output_data/Fig3.png\")\n",
    "\n",
    "# Display the plot\n",
    "plt.show()\n",
    "\n",
    "# A sentence or two explaining what the code is analyzing\n",
    "print(\"This scatter plot is analyzing any correlation between location related to the equator (in Latitude)\")\n",
    "print(\"and the cloudiness of the region to show how location to the equator relates to cloud coverage.\")"
   ]
  },
  {
   "cell_type": "markdown",
   "metadata": {},
   "source": [
    "## Latitude vs. Wind Speed Plot"
   ]
  },
  {
   "cell_type": "code",
   "execution_count": 19,
   "metadata": {},
   "outputs": [
    {
     "data": {
      "image/png": "[encoded data removed]",
      "text/plain": [
       "<Figure size 432x288 with 1 Axes>"
      ]
     },
     "metadata": {
      "needs_background": "light"
     },
     "output_type": "display_data"
    },
    {
     "name": "stdout",
     "output_type": "stream",
     "text": [
      "This scatter plot is analyzing any correlation between location related to the equator (in Latitude)\n",
      "and the wind speed of the region to show how location to the equator relates to windiness.\n"
     ]
    }
   ],
   "source": [
    "# Latitude vs. Wind Speed\n",
    "plt.figure()\n",
    "plt.scatter(weather_data[\"Lat\"], weather_data[\"Wind Speed\"], marker=\"o\")\n",
    "\n",
    "# Incorporate other graph properties\n",
    "plt.title(f\"City Latitude vs. Wind Speed ({plot_date[1]}/{plot_date[2]}/{plot_date[0]})\")\n",
    "plt.ylabel(\"Wind Speed (mph)\")\n",
    "plt.xlabel(\"Latitude\")\n",
    "plt.grid(True)\n",
    "\n",
    "# Save the figure\n",
    "plt.savefig(\"../output_data/Fig4.png\")\n",
    "\n",
    "# Display the plot\n",
    "plt.show()\n",
    "\n",
    "# A sentence or two explaining what the code is analyzing\n",
    "print(\"This scatter plot is analyzing any correlation between location related to the equator (in Latitude)\")\n",
    "print(\"and the wind speed of the region to show how location to the equator relates to windiness.\")"
   ]
  },
  {
   "cell_type": "markdown",
   "metadata": {},
   "source": [
    "## Linear Regression"
   ]
  },
  {
   "cell_type": "code",
   "execution_count": 33,
   "metadata": {},
   "outputs": [],
   "source": [
    "# Split the data into northern and southern hemisphere\n",
    "north_h = weather_data.loc[weather_data[\"Lat\"] >= 0]\n",
    "south_h = weather_data.loc[weather_data[\"Lat\"] <= 0]\n",
    "\n",
    "# A function to build the linear regression data for the plots to follow\n",
    "def my_lr_func(x, y):\n",
    "    # Perform a linear regression on x vs. y items\n",
    "    (slope, intercept, rvalue, pvalue, stsderr) = linregress(x, y)\n",
    "    print(f\"The r-value is: {rvalue**2}\")\n",
    "    \n",
    "    # Get regression values\n",
    "    regress_values = x * slope + intercept\n",
    "\n",
    "    # Create line equation string\n",
    "    line_eq = \"y = \" + str(round(slope,2)) + \"x + \" + str(round(intercept,2))\n",
    "    \n",
    "    # Return the regress_values and line_eq\n",
    "    return(regress_values, line_eq)\n"
   ]
  },
  {
   "cell_type": "markdown",
   "metadata": {},
   "source": [
    "####  Northern Hemisphere - Max Temp vs. Latitude Linear Regression"
   ]
  },
  {
   "cell_type": "code",
   "execution_count": 40,
   "metadata": {},
   "outputs": [
    {
     "name": "stdout",
     "output_type": "stream",
     "text": [
      "The r-value is: 0.8434941494452283\n"
     ]
    },
    {
     "data": {
      "image/png": "[encoded data removed]",
      "text/plain": [
       "<Figure size 432x288 with 1 Axes>"
      ]
     },
     "metadata": {
      "needs_background": "light"
     },
     "output_type": "display_data"
    }
   ],
   "source": [
    "# Perform a linear regression on maximum temperature vs. latitude in the Northern Hemisphere\n",
    "regress_values, line_eq = my_lr_func(north_h[\"Lat\"], north_h[\"Max Temp\"])\n",
    "\n",
    "# Create scatter plot of linear regression line\n",
    "plt.figure()\n",
    "plt.scatter(north_h[\"Lat\"], north_h[\"Max Temp\"], marker=\"o\")\n",
    "plt.plot(north_h[\"Lat\"], regress_values, \"r-\")\n",
    "\n",
    "# Incorporate other graph properties\n",
    "plt.title(f\"Northern Hemisphere - Max Temp vs. Latitude ({plot_date[1]}/{plot_date[2]}/{plot_date[0]})\")\n",
    "plt.ylabel(\"Max Temperature (F)\")\n",
    "plt.xlabel(\"Latitude\")\n",
    "plt.annotate(line_eq, (20,40), fontsize=15, color=\"red\")\n",
    "\n",
    "# Save the figure\n",
    "plt.savefig(\"../output_data/NH_Max_Temp_v_Lat.png\")\n",
    "\n",
    "# Display the plot\n",
    "plt.show()"
   ]
  },
  {
   "cell_type": "markdown",
   "metadata": {},
   "source": [
    "####  Southern Hemisphere - Max Temp vs. Latitude Linear Regression"
   ]
  },
  {
   "cell_type": "code",
   "execution_count": 42,
   "metadata": {},
   "outputs": [
    {
     "name": "stdout",
     "output_type": "stream",
     "text": [
      "The r-value is: 0.7276480803634852\n"
     ]
    },
    {
     "data": {
      "image/png": "[encoded data removed]",
      "text/plain": [
       "<Figure size 432x288 with 1 Axes>"
      ]
     },
     "metadata": {
      "needs_background": "light"
     },
     "output_type": "display_data"
    }
   ],
   "source": [
    "# Perform a linear regression on maximum temperature vs. latitude in the Southern Hemisphere\n",
    "regress_values, line_eq = my_lr_func(south_h[\"Lat\"], south_h[\"Max Temp\"])\n",
    "\n",
    "# Create scatter plot of linear regression line\n",
    "plt.figure()\n",
    "plt.scatter(south_h[\"Lat\"], south_h[\"Max Temp\"], marker=\"o\")\n",
    "plt.plot(south_h[\"Lat\"], regress_values, \"r-\")\n",
    "\n",
    "# Incorporate other graph properties\n",
    "plt.title(f\"Southern Hemisphere - Max Temp vs. Latitude ({plot_date[1]}/{plot_date[2]}/{plot_date[0]})\")\n",
    "plt.ylabel(\"Max Temperature (F)\")\n",
    "plt.xlabel(\"Latitude\")\n",
    "plt.annotate(line_eq, (-50,70), fontsize=15, color=\"red\")\n",
    "\n",
    "# Save the figure\n",
    "plt.savefig(\"../output_data/SH_Max_Temp_v_Lat.png\")\n",
    "\n",
    "# Display the plot\n",
    "plt.show()"
   ]
  },
  {
   "cell_type": "markdown",
   "metadata": {},
   "source": [
    "####  Northern Hemisphere - Humidity (%) vs. Latitude Linear Regression"
   ]
  },
  {
   "cell_type": "code",
   "execution_count": 43,
   "metadata": {},
   "outputs": [
    {
     "name": "stdout",
     "output_type": "stream",
     "text": [
      "The r-value is: 0.5663858324628154\n"
     ]
    },
    {
     "data": {
      "image/png": "[encoded data removed]",
      "text/plain": [
       "<Figure size 432x288 with 1 Axes>"
      ]
     },
     "metadata": {
      "needs_background": "light"
     },
     "output_type": "display_data"
    }
   ],
   "source": [
    "# Perform a linear regression on humidity vs. latitude in the Northern Hemisphere\n",
    "regress_values, line_eq = my_lr_func(north_h[\"Lat\"], north_h[\"Humidity\"])\n",
    "\n",
    "# Create scatter plot of linear regression line\n",
    "plt.figure()\n",
    "plt.scatter(north_h[\"Lat\"], north_h[\"Humidity\"], marker=\"o\")\n",
    "plt.plot(north_h[\"Lat\"], regress_values, \"r-\")\n",
    "\n",
    "# Incorporate other graph properties\n",
    "plt.title(f\"Northern Hemisphere - Humidity vs. Latitude ({plot_date[1]}/{plot_date[2]}/{plot_date[0]})\")\n",
    "plt.ylabel(\"Humidity (%)\")\n",
    "plt.xlabel(\"Latitude\")\n",
    "plt.annotate(line_eq, (40,20), fontsize=15, color=\"red\")\n",
    "\n",
    "# Save the figure\n",
    "plt.savefig(\"../output_data/NH_Humidity_v_Lat.png\")\n",
    "\n",
    "# Display the plot\n",
    "plt.show()"
   ]
  },
  {
   "cell_type": "markdown",
   "metadata": {},
   "source": [
    "####  Southern Hemisphere - Humidity (%) vs. Latitude Linear Regression"
   ]
  },
  {
   "cell_type": "code",
   "execution_count": 44,
   "metadata": {},
   "outputs": [
    {
     "name": "stdout",
     "output_type": "stream",
     "text": [
      "The r-value is: 0.005249646298939982\n"
     ]
    },
    {
     "data": {
      "image/png": "[encoded data removed]",
      "text/plain": [
       "<Figure size 432x288 with 1 Axes>"
      ]
     },
     "metadata": {
      "needs_background": "light"
     },
     "output_type": "display_data"
    }
   ],
   "source": [
    "# Perform a linear regression on humidity vs. latitude in the Southern Hemisphere\n",
    "regress_values, line_eq = my_lr_func(south_h[\"Lat\"], south_h[\"Humidity\"])\n",
    "\n",
    "# Create scatter plot of linear regression line\n",
    "plt.figure()\n",
    "plt.scatter(south_h[\"Lat\"], south_h[\"Humidity\"], marker=\"o\")\n",
    "plt.plot(south_h[\"Lat\"], regress_values, \"r-\")\n",
    "\n",
    "# Incorporate other graph properties\n",
    "plt.title(f\"Southern Hemisphere - Humidity vs. Latitude ({plot_date[1]}/{plot_date[2]}/{plot_date[0]})\")\n",
    "plt.ylabel(\"Humidity (%)\")\n",
    "plt.xlabel(\"Latitude\")\n",
    "plt.annotate(line_eq, (-50,20), fontsize=15, color=\"red\")\n",
    "\n",
    "# Save the figure\n",
    "plt.savefig(\"../output_data/SH_Humidity_v_Lat.png\")\n",
    "\n",
    "# Display the plot\n",
    "plt.show()"
   ]
  },
  {
   "cell_type": "markdown",
   "metadata": {},
   "source": [
    "####  Northern Hemisphere - Cloudiness (%) vs. Latitude Linear Regression"
   ]
  },
  {
   "cell_type": "code",
   "execution_count": 45,
   "metadata": {},
   "outputs": [
    {
     "name": "stdout",
     "output_type": "stream",
     "text": [
      "The r-value is: 0.031127159677934352\n"
     ]
    },
    {
     "data": {
      "image/png": "[encoded data removed]",
      "text/plain": [
       "<Figure size 432x288 with 1 Axes>"
      ]
     },
     "metadata": {
      "needs_background": "light"
     },
     "output_type": "display_data"
    }
   ],
   "source": [
    "# Perform a linear regression on cloudiness vs. latitude in the Northern Hemisphere\n",
    "regress_values, line_eq = my_lr_func(north_h[\"Lat\"], north_h[\"Cloudiness\"])\n",
    "\n",
    "# Create scatter plot of linear regression line\n",
    "plt.figure()\n",
    "plt.scatter(north_h[\"Lat\"], north_h[\"Cloudiness\"], marker=\"o\")\n",
    "plt.plot(north_h[\"Lat\"], regress_values, \"r-\")\n",
    "\n",
    "# Incorporate other graph properties\n",
    "plt.title(f\"Northern Hemisphere - Cloudiness vs. Latitude ({plot_date[1]}/{plot_date[2]}/{plot_date[0]})\")\n",
    "plt.ylabel(\"Cloudiness (%)\")\n",
    "plt.xlabel(\"Latitude\")\n",
    "plt.annotate(line_eq, (40,20), fontsize=15, color=\"red\")\n",
    "\n",
    "# Save the figure\n",
    "plt.savefig(\"../output_data/NH_Cloudiness_v_Lat.png\")\n",
    "\n",
    "# Display the plot\n",
    "plt.show()"
   ]
  },
  {
   "cell_type": "markdown",
   "metadata": {},
   "source": [
    "####  Southern Hemisphere - Cloudiness (%) vs. Latitude Linear Regression"
   ]
  },
  {
   "cell_type": "code",
   "execution_count": 49,
   "metadata": {},
   "outputs": [
    {
     "name": "stdout",
     "output_type": "stream",
     "text": [
      "The r-value is: 0.01816425373957225\n"
     ]
    },
    {
     "data": {
      "image/png": "[encoded data removed]",
      "text/plain": [
       "<Figure size 432x288 with 1 Axes>"
      ]
     },
     "metadata": {
      "needs_background": "light"
     },
     "output_type": "display_data"
    }
   ],
   "source": [
    "# Perform a linear regression on cloudiness vs. latitude in the Southern Hemisphere\n",
    "regress_values, line_eq = my_lr_func(south_h[\"Lat\"], south_h[\"Cloudiness\"])\n",
    "\n",
    "# Create scatter plot of linear regression line\n",
    "plt.figure()\n",
    "plt.scatter(south_h[\"Lat\"], south_h[\"Cloudiness\"], marker=\"o\")\n",
    "plt.plot(south_h[\"Lat\"], regress_values, \"r-\")\n",
    "\n",
    "# Incorporate other graph properties\n",
    "plt.title(f\"Southern Hemisphere - Cloudiness vs. Latitude ({plot_date[1]}/{plot_date[2]}/{plot_date[0]})\")\n",
    "plt.ylabel(\"Cloudiness (%)\")\n",
    "plt.xlabel(\"Latitude\")\n",
    "plt.annotate(line_eq, (-40,20), fontsize=15, color=\"red\")\n",
    "\n",
    "# Save the figure\n",
    "plt.savefig(\"../output_data/SH_Cloudiness_v_Lat.png\")\n",
    "\n",
    "# Display the plot\n",
    "plt.show()"
   ]
  },
  {
   "cell_type": "markdown",
   "metadata": {},
   "source": [
    "####  Northern Hemisphere - Wind Speed (mph) vs. Latitude Linear Regression"
   ]
  },
  {
   "cell_type": "code",
   "execution_count": 51,
   "metadata": {},
   "outputs": [
    {
     "name": "stdout",
     "output_type": "stream",
     "text": [
      "The r-value is: 0.24120831281027036\n"
     ]
    },
    {
     "data": {
      "image/png": "[encoded data removed]",
      "text/plain": [
       "<Figure size 432x288 with 1 Axes>"
      ]
     },
     "metadata": {
      "needs_background": "light"
     },
     "output_type": "display_data"
    }
   ],
   "source": [
    "# Perform a linear regression on wind speed vs. latitude in the Northern Hemisphere\n",
    "regress_values, line_eq = my_lr_func(north_h[\"Lat\"], north_h[\"Wind Speed\"])\n",
    "\n",
    "# Create scatter plot of linear regression line\n",
    "plt.figure()\n",
    "plt.scatter(north_h[\"Lat\"], north_h[\"Wind Speed\"], marker=\"o\")\n",
    "plt.plot(north_h[\"Lat\"], regress_values, \"r-\")\n",
    "\n",
    "# Incorporate other graph properties\n",
    "plt.title(f\"Northern Hemisphere - Wind Speed vs. Latitude ({plot_date[1]}/{plot_date[2]}/{plot_date[0]})\")\n",
    "plt.ylabel(\"Wind Speed (mph)\")\n",
    "plt.xlabel(\"Latitude\")\n",
    "plt.annotate(line_eq, (40,10), fontsize=15, color=\"red\")\n",
    "\n",
    "# Save the figure\n",
    "plt.savefig(\"../output_data/NH_Wind_Speed_v_Lat.png\")\n",
    "\n",
    "# Display the plot\n",
    "plt.show()"
   ]
  },
  {
   "cell_type": "markdown",
   "metadata": {},
   "source": [
    "####  Southern Hemisphere - Wind Speed (mph) vs. Latitude Linear Regression"
   ]
  },
  {
   "cell_type": "code",
   "execution_count": 52,
   "metadata": {},
   "outputs": [
    {
     "name": "stdout",
     "output_type": "stream",
     "text": [
      "The r-value is: 0.5988940926325089\n"
     ]
    },
    {
     "data": {
      "image/png": "[encoded data removed]",
      "text/plain": [
       "<Figure size 432x288 with 1 Axes>"
      ]
     },
     "metadata": {
      "needs_background": "light"
     },
     "output_type": "display_data"
    }
   ],
   "source": [
    "# Perform a linear regression on wind speed vs. latitude in the Southern Hemisphere\n",
    "regress_values, line_eq = my_lr_func(south_h[\"Lat\"], south_h[\"Wind Speed\"])\n",
    "\n",
    "# Create scatter plot of linear regression line\n",
    "plt.figure()\n",
    "plt.scatter(south_h[\"Lat\"], south_h[\"Wind Speed\"], marker=\"o\")\n",
    "plt.plot(south_h[\"Lat\"], regress_values, \"r-\")\n",
    "\n",
    "# Incorporate other graph properties\n",
    "plt.title(f\"Southern Hemisphere - Wind Speed vs. Latitude ({plot_date[1]}/{plot_date[2]}/{plot_date[0]})\")\n",
    "plt.ylabel(\"Wind Speed (mph)\")\n",
    "plt.xlabel(\"Latitude\")\n",
    "plt.annotate(line_eq, (-40,10), fontsize=15, color=\"red\")\n",
    "\n",
    "# Save the figure\n",
    "plt.savefig(\"../output_data/SH_Wind_Speed_v_Lat.png\")\n",
    "\n",
    "# Display the plot\n",
    "plt.show()"
   ]
  },
  {
   "cell_type": "code",
   "execution_count": null,
   "metadata": {},
   "outputs": [],
   "source": []
  }
 ],
 "metadata": {
  "anaconda-cloud": {},
  "kernel_info": {
   "name": "python3"
  },
  "kernelspec": {
   "display_name": "Python 3",
   "language": "python",
   "name": "python3"
  },
  "language_info": {
   "codemirror_mode": {
    "name": "ipython",
    "version": 3
   },
   "file_extension": ".py",
   "mimetype": "text/x-python",
   "name": "python",
   "nbconvert_exporter": "python",
   "pygments_lexer": "ipython3",
   "version": "3.8.8"
  },
  "latex_envs": {
   "LaTeX_envs_menu_present": true,
   "autoclose": false,
   "autocomplete": true,
   "bibliofile": "biblio.bib",
   "cite_by": "apalike",
   "current_citInitial": 1,
   "eqLabelWithNumbers": true,
   "eqNumInitial": 1,
   "hotkeys": {
    "equation": "Ctrl-E",
    "itemize": "Ctrl-I"
   },
   "labels_anchors": false,
   "latex_user_defs": false,
   "report_style_numbering": false,
   "user_envs_cfg": false
  },
  "nteract": {
   "version": "0.12.3"
  }
 },
 "nbformat": 4,
 "nbformat_minor": 2
}
